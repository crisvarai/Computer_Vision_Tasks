{
  "nbformat": 4,
  "nbformat_minor": 0,
  "metadata": {
    "colab": {
      "name": "1_Classification.ipynb",
      "provenance": [],
      "collapsed_sections": [],
      "authorship_tag": "ABX9TyN8zpQ/1cSsnes3t6e6DPCV"
    },
    "kernelspec": {
      "name": "python3",
      "display_name": "Python 3"
    },
    "language_info": {
      "name": "python"
    },
    "accelerator": "GPU",
    "gpuClass": "standard"
  },
  "cells": [
    {
      "cell_type": "markdown",
      "source": [
        "## Classification\n",
        "\n",
        "The image classification task is the simplest, the neural network receives an image at the input and at the output it will give a probability distribution over all the classes that we consider"
      ],
      "metadata": {
        "id": "3Ujr40tFAgAv"
      }
    },
    {
      "cell_type": "markdown",
      "source": [
        "## Classification Example\n",
        "\n",
        "Import libraries and download the dataset"
      ],
      "metadata": {
        "id": "pFJs6nqa0dbm"
      }
    },
    {
      "cell_type": "code",
      "source": [
        "import torch\n",
        "import torchvision\n",
        "\n",
        "dataset = {\n",
        "    'train': torchvision.datasets.MNIST('./data', train=True, download=True, transform=torchvision.transforms.ToTensor()),\n",
        "    'test': torchvision.datasets.MNIST('./data', train=False, download=True, transform=torchvision.transforms.ToTensor())\n",
        "}\n",
        "\n",
        "len(dataset['train']), len(dataset['test'])"
      ],
      "metadata": {
        "colab": {
          "base_uri": "https://localhost:8080/"
        },
        "id": "YsSnffoIAv4O",
        "outputId": "ab58e9e9-8626-42b3-ebb3-e6ecf5dd57ad"
      },
      "execution_count": null,
      "outputs": [
        {
          "output_type": "execute_result",
          "data": {
            "text/plain": [
              "(60000, 10000)"
            ]
          },
          "metadata": {},
          "execution_count": 1
        }
      ]
    },
    {
      "cell_type": "markdown",
      "source": [
        "Visualization of examples of images in the dataset to get an idea of the type of data with which we work"
      ],
      "metadata": {
        "id": "5IWvN5JB2E6M"
      }
    },
    {
      "cell_type": "code",
      "source": [
        "import matplotlib as mpl\n",
        "import matplotlib.pyplot as plt\n",
        "import random \n",
        "\n",
        "r, c = 3, 5\n",
        "fig = plt.figure(figsize=(2*c, 2*r))\n",
        "for _r in range(r):\n",
        "    for _c in range(c):\n",
        "        plt.subplot(r, c, _r*c + _c + 1)\n",
        "        ix = random.randint(0, len(dataset['train'])-1)\n",
        "        img, label = dataset['train'][ix]\n",
        "        plt.imshow(img.squeeze(0), cmap='gray')\n",
        "        plt.axis(\"off\")\n",
        "        plt.title(label)\n",
        "plt.tight_layout()\n",
        "plt.show()"
      ],
      "metadata": {
        "colab": {
          "base_uri": "https://localhost:8080/",
          "height": 441
        },
        "id": "9SuvnkMdDPNs",
        "outputId": "f8ffe649-3c62-43fb-d1cb-a62ed7158940"
      },
      "execution_count": null,
      "outputs": [
        {
          "output_type": "display_data",
          "data": {
            "text/plain": [
              "<Figure size 720x432 with 15 Axes>"
            ],
            "image/png": "[encoded data removed]"
          },
          "metadata": {
            "needs_background": "light"
          }
        }
      ]
    },
    {
      "cell_type": "code",
      "source": [
        "img.shape, img.dtype, img.max(), img.min()"
      ],
      "metadata": {
        "colab": {
          "base_uri": "https://localhost:8080/"
        },
        "id": "4c5yWvoGhnKx",
        "outputId": "92f8247f-99c8-4cf4-fc4e-7ade57197d13"
      },
      "execution_count": null,
      "outputs": [
        {
          "output_type": "execute_result",
          "data": {
            "text/plain": [
              "(torch.Size([1, 28, 28]), torch.float32, tensor(1.), tensor(0.))"
            ]
          },
          "metadata": {},
          "execution_count": 3
        }
      ]
    },
    {
      "cell_type": "markdown",
      "source": [
        "## Model"
      ],
      "metadata": {
        "id": "hNLodChI2wJ2"
      }
    },
    {
      "cell_type": "code",
      "source": [
        " def block(c_in, c_out, k=3, p=1, s=1, pk=2, ps=2):\n",
        "    return torch.nn.Sequential(\n",
        "        torch.nn.Conv2d(c_in, c_out, k, padding=p, stride=s),\n",
        "        torch.nn.ReLU(),\n",
        "        torch.nn.MaxPool2d(pk, stride=ps)\n",
        "    )\n",
        "\n",
        "class CNN(torch.nn.Module):\n",
        "    def __init__(self, n_channels=1, n_outputs=10):\n",
        "        super().__init__()\n",
        "        self.conv1 = block(n_channels, 64)\n",
        "        self.conv2 = block(64, 128)\n",
        "        self.fc = torch.nn.Linear(128*7*7, n_outputs)\n",
        "\n",
        "    def forward(self, x):\n",
        "        x = self.conv1(x)\n",
        "        x = self.conv2(x)\n",
        "        x = x.view(x.shape[0], -1)\n",
        "        x = self.fc(x)\n",
        "        return x"
      ],
      "metadata": {
        "id": "lVk0onhmolsC"
      },
      "execution_count": null,
      "outputs": []
    },
    {
      "cell_type": "code",
      "source": [
        "model = CNN()\n",
        "output = model(torch.randn(64, 1, 28, 28))\n",
        "output.shape"
      ],
      "metadata": {
        "colab": {
          "base_uri": "https://localhost:8080/"
        },
        "id": "V7o_K2whqscB",
        "outputId": "e3952c3e-ddd1-4754-8290-813b519666e1"
      },
      "execution_count": null,
      "outputs": [
        {
          "output_type": "execute_result",
          "data": {
            "text/plain": [
              "torch.Size([64, 10])"
            ]
          },
          "metadata": {},
          "execution_count": 5
        }
      ]
    },
    {
      "cell_type": "markdown",
      "source": [
        "## Define Dataloader"
      ],
      "metadata": {
        "id": "iLYy05kM36HV"
      }
    },
    {
      "cell_type": "code",
      "source": [
        "dataloader = {\n",
        "    'train': torch.utils.data.DataLoader(dataset['train'], batch_size=64, shuffle=True, pin_memory=True),\n",
        "    'test': torch.utils.data.DataLoader(dataset['test'], batch_size=64, shuffle=False, pin_memory=True)\n",
        "}\n",
        "\n",
        "imgs, labels = next(iter(dataloader['train']))\n",
        "imgs.shape"
      ],
      "metadata": {
        "id": "Y9I4yIfsxWC-",
        "colab": {
          "base_uri": "https://localhost:8080/"
        },
        "outputId": "8c431387-4ef6-4eeb-d042-71a118d91f6b"
      },
      "execution_count": null,
      "outputs": [
        {
          "output_type": "execute_result",
          "data": {
            "text/plain": [
              "torch.Size([64, 1, 28, 28])"
            ]
          },
          "metadata": {},
          "execution_count": 6
        }
      ]
    },
    {
      "cell_type": "markdown",
      "source": [
        "## Fit function for training"
      ],
      "metadata": {
        "id": "4LidZvjZ4AHl"
      }
    },
    {
      "cell_type": "code",
      "source": [
        "from tqdm import tqdm\n",
        "import numpy as np\n",
        "device = \"cuda\" if torch.cuda.is_available() else \"cpu\"\n",
        "\n",
        "def fit(model, dataloader, epochs=5):\n",
        "    model.to(device)\n",
        "    optimizer = torch.optim.Adam(model.parameters(), lr=1e-3)\n",
        "    criterion = torch.nn.CrossEntropyLoss()\n",
        "    for epoch in range(1, epochs+1):\n",
        "        model.train()\n",
        "        train_loss, train_acc = [], []\n",
        "        bar = tqdm(dataloader['train'])\n",
        "        for batch in bar:\n",
        "            X, y = batch\n",
        "            X, y = X.to(device), y.to(device)\n",
        "            optimizer.zero_grad()\n",
        "            y_hat = model(X)\n",
        "            loss = criterion(y_hat, y)\n",
        "            loss.backward()\n",
        "            optimizer.step()\n",
        "            train_loss.append(loss.item())\n",
        "            acc = (y == torch.argmax(y_hat, axis=1)).sum().item() / len(y)\n",
        "            train_acc.append(acc)\n",
        "            bar.set_description(f\"loss {np.mean(train_loss):.5f} acc {np.mean(train_acc):.5f}\")\n",
        "        bar = tqdm(dataloader['test'])\n",
        "        val_loss, val_acc = [], []\n",
        "        model.eval()\n",
        "        with torch.no_grad():\n",
        "            for batch in bar:\n",
        "                X, y = batch\n",
        "                X, y = X.to(device), y.to(device)\n",
        "                y_hat = model(X)\n",
        "                loss = criterion(y_hat, y)\n",
        "                val_loss.append(loss.item())\n",
        "                acc = (y == torch.argmax(y_hat, axis=1)).sum().item() / len(y)\n",
        "                val_acc.append(acc)\n",
        "                bar.set_description(f\"val_loss {np.mean(val_loss):.5f} val_acc {np.mean(val_acc):.5f}\")\n",
        "        print(f\"Epoch {epoch}/{epochs} loss {np.mean(train_loss):.5f} val_loss {np.mean(val_loss):.5f} acc {np.mean(train_acc):.5f} val_acc {np.mean(val_acc):.5f}\")"
      ],
      "metadata": {
        "id": "969Kj5gz7xJ-"
      },
      "execution_count": null,
      "outputs": []
    },
    {
      "cell_type": "code",
      "source": [
        "model = CNN()\n",
        "fit(model, dataloader)"
      ],
      "metadata": {
        "colab": {
          "base_uri": "https://localhost:8080/"
        },
        "id": "WnHyI4dBqMU7",
        "outputId": "69337c3e-633b-4505-b7ed-7ba1abaeb4fe"
      },
      "execution_count": null,
      "outputs": [
        {
          "output_type": "stream",
          "name": "stderr",
          "text": [
            "loss 0.14260 acc 0.95697: 100%|██████████| 938/938 [02:57<00:00,  5.28it/s]\n",
            "val_loss 0.04866 val_acc 0.98348: 100%|██████████| 157/157 [00:12<00:00, 12.15it/s]\n"
          ]
        },
        {
          "output_type": "stream",
          "name": "stdout",
          "text": [
            "Epoch 1/5 loss 0.14260 val_loss 0.04866 acc 0.95697 val_acc 0.98348\n"
          ]
        },
        {
          "output_type": "stream",
          "name": "stderr",
          "text": [
            "loss 0.04498 acc 0.98614: 100%|██████████| 938/938 [02:56<00:00,  5.31it/s]\n",
            "val_loss 0.03140 val_acc 0.98885: 100%|██████████| 157/157 [00:13<00:00, 12.06it/s]\n"
          ]
        },
        {
          "output_type": "stream",
          "name": "stdout",
          "text": [
            "Epoch 2/5 loss 0.04498 val_loss 0.03140 acc 0.98614 val_acc 0.98885\n"
          ]
        },
        {
          "output_type": "stream",
          "name": "stderr",
          "text": [
            "loss 0.03206 acc 0.98991: 100%|██████████| 938/938 [02:59<00:00,  5.23it/s]\n",
            "val_loss 0.03317 val_acc 0.98836: 100%|██████████| 157/157 [00:13<00:00, 11.92it/s]\n"
          ]
        },
        {
          "output_type": "stream",
          "name": "stdout",
          "text": [
            "Epoch 3/5 loss 0.03206 val_loss 0.03317 acc 0.98991 val_acc 0.98836\n"
          ]
        },
        {
          "output_type": "stream",
          "name": "stderr",
          "text": [
            "loss 0.02390 acc 0.99285: 100%|██████████| 938/938 [02:57<00:00,  5.29it/s]\n",
            "val_loss 0.02793 val_acc 0.99045: 100%|██████████| 157/157 [00:14<00:00, 11.12it/s]\n"
          ]
        },
        {
          "output_type": "stream",
          "name": "stdout",
          "text": [
            "Epoch 4/5 loss 0.02390 val_loss 0.02793 acc 0.99285 val_acc 0.99045\n"
          ]
        },
        {
          "output_type": "stream",
          "name": "stderr",
          "text": [
            "loss 0.01898 acc 0.99390: 100%|██████████| 938/938 [02:56<00:00,  5.31it/s]\n",
            "val_loss 0.03505 val_acc 0.98915: 100%|██████████| 157/157 [00:13<00:00, 12.05it/s]"
          ]
        },
        {
          "output_type": "stream",
          "name": "stdout",
          "text": [
            "Epoch 5/5 loss 0.01898 val_loss 0.03505 acc 0.99390 val_acc 0.98915\n"
          ]
        },
        {
          "output_type": "stream",
          "name": "stderr",
          "text": [
            "\n"
          ]
        }
      ]
    },
    {
      "cell_type": "markdown",
      "source": [
        "## Evaluation\n",
        "\n",
        "Once our model has been trained we can use it to generate predictions on the test data"
      ],
      "metadata": {
        "id": "u3qhZGqz4VrF"
      }
    },
    {
      "cell_type": "code",
      "source": [
        "r, c = 3, 5\n",
        "fig = plt.figure(figsize=(2*c, 2*r))\n",
        "for _r in range(r):\n",
        "    for _c in range(c):\n",
        "        plt.subplot(r, c, _r*c + _c + 1)\n",
        "        ix = random.randint(0, len(dataset['test'])-1)\n",
        "        img, label = dataset['test'][ix]\n",
        "        preds = model(img.unsqueeze(0).to(device))\n",
        "        pred = torch.argmax(preds, axis=1)[0].item()\n",
        "        plt.imshow(img.squeeze(0), cmap='gray')\n",
        "        plt.axis(\"off\")\n",
        "        plt.title(f'{label}/{pred}', color=\"red\" if label != pred else \"green\")\n",
        "plt.tight_layout()\n",
        "plt.show()"
      ],
      "metadata": {
        "colab": {
          "base_uri": "https://localhost:8080/",
          "height": 441
        },
        "id": "d-GZ5URNqRvB",
        "outputId": "5f855bae-4474-4867-c02d-db411d6a7b7c"
      },
      "execution_count": null,
      "outputs": [
        {
          "output_type": "display_data",
          "data": {
            "text/plain": [
              "<Figure size 720x432 with 15 Axes>"
            ],
            "image/png": "[encoded data removed]"
          },
          "metadata": {
            "needs_background": "light"
          }
        }
      ]
    }
  ]
}